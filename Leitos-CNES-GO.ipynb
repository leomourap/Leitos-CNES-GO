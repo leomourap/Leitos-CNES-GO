{
 "cells": [
  {
   "cell_type": "markdown",
   "id": "3cd56542",
   "metadata": {},
   "source": [
    "## Análise Exploratória dos Dados dos Leitos Hospitalares de Goiás durante o Período da Pandemia de COVID-19\n",
    "\n",
    "Considere a notícia abaixo:\n",
    "\n",
    "\"Governo de Goiás mantém leitos instalados no período crítico da pandemia\"\n",
    "https://www.saude.go.gov.br/noticias/16950-governo-de-goias-mantem-leitos-instalados-no-periodo-critico-da-pandemia\n",
    "\n",
    "Sabendo que:\n",
    "Os leitos são cadastrados no subsistema LT do sistema CNES (Cadastro Nacional de Estabelecimentos de Saúde);\n",
    "Os dados do CNES.LT estão disponíveis publicamente no servidor FTP do DataSUS conforme exposto no endereço https://datasus.saude.gov.br/transferencia-de-arquivos/ ¹\n",
    "\n",
    "Desenvolva uma análise exploratória que descreva a evolução da capacidade hospitalar (número de leitos) durante a pandemia \n",
    "de Covid-19 em Goiás. Você pode realizar a análise sobre qualquer perspectiva, mas abaixo listamos algumas sugestões:\n",
    "\n",
    "-Compare a distribuição geográfica dos leitos por município antes e depois da pandemia; ou\n",
    "\n",
    "-Analise a evolução do número de leitos no tempo; ou\n",
    "\n",
    "-Verifique se em algum momento pôde ser observado um declínio na capacidade hospitalar instalada; ou\n",
    "\n",
    "-Comparar a quantidade de leitos SUS e leitos não SUS no tempo e no espaço."
   ]
  },
  {
   "cell_type": "markdown",
   "id": "18fc680e",
   "metadata": {},
   "source": [
    "## --------------------------------------------------------------------------------------------"
   ]
  },
  {
   "cell_type": "markdown",
   "id": "5877db25",
   "metadata": {},
   "source": [
    "O primeiro caso confirmado de pessoa com o coronavírus no Brasil ocorreu em 26 de fevereiro de 2020. Desde então, já foram registrados mais de 36 milhões de casos no país.\n",
    "\n",
    "Em 11 de março de 2020, a COVID-19 foi caracterizada pela OMS como uma pandemia.\n",
    "\n",
    "Portanto, vou utilizar os dados dos leitos do CNES desde janeiro de 2020 até novembro de 2022 (dezembro ainda não está disponível)."
   ]
  },
  {
   "cell_type": "code",
   "execution_count": 1,
   "id": "47cb7881",
   "metadata": {},
   "outputs": [],
   "source": [
    "#importando bibliotecas\n",
    "import pandas as pd\n",
    "import numpy as np\n",
    "import datetime as dt\n",
    "import seaborn as sns\n",
    "import matplotlib as mpl\n",
    "import matplotlib.pyplot as plt\n",
    "import time"
   ]
  },
  {
   "cell_type": "code",
   "execution_count": 2,
   "id": "ca5bbd67",
   "metadata": {},
   "outputs": [
    {
     "data": {
      "text/html": [
       "<div>\n",
       "<style scoped>\n",
       "    .dataframe tbody tr th:only-of-type {\n",
       "        vertical-align: middle;\n",
       "    }\n",
       "\n",
       "    .dataframe tbody tr th {\n",
       "        vertical-align: top;\n",
       "    }\n",
       "\n",
       "    .dataframe thead th {\n",
       "        text-align: right;\n",
       "    }\n",
       "</style>\n",
       "<table border=\"1\" class=\"dataframe\">\n",
       "  <thead>\n",
       "    <tr style=\"text-align: right;\">\n",
       "      <th></th>\n",
       "      <th>CNES</th>\n",
       "      <th>CODUFMUN</th>\n",
       "      <th>REGSAUDE</th>\n",
       "      <th>MICR_REG</th>\n",
       "      <th>DISTRSAN</th>\n",
       "      <th>DISTRADM</th>\n",
       "      <th>TPGESTAO</th>\n",
       "      <th>PF_PJ</th>\n",
       "      <th>CPF_CNPJ</th>\n",
       "      <th>NIV_DEP</th>\n",
       "      <th>CNPJ_MAN</th>\n",
       "      <th>ESFERA_A</th>\n",
       "      <th>ATIVIDAD</th>\n",
       "      <th>RETENCAO</th>\n",
       "      <th>NATUREZA</th>\n",
       "      <th>CLIENTEL</th>\n",
       "      <th>TP_UNID</th>\n",
       "      <th>TURNO_AT</th>\n",
       "      <th>NIV_HIER</th>\n",
       "      <th>TERCEIRO</th>\n",
       "      <th>TP_LEITO</th>\n",
       "      <th>CODLEITO</th>\n",
       "      <th>QT_EXIST</th>\n",
       "      <th>QT_CONTR</th>\n",
       "      <th>QT_SUS</th>\n",
       "      <th>QT_NSUS</th>\n",
       "      <th>COMPETEN</th>\n",
       "      <th>NAT_JUR</th>\n",
       "    </tr>\n",
       "  </thead>\n",
       "  <tbody>\n",
       "    <tr>\n",
       "      <th>0</th>\n",
       "      <td>9331603</td>\n",
       "      <td>520010</td>\n",
       "      <td>NaN</td>\n",
       "      <td>NaN</td>\n",
       "      <td>NaN</td>\n",
       "      <td>NaN</td>\n",
       "      <td>M</td>\n",
       "      <td>3</td>\n",
       "      <td>0</td>\n",
       "      <td>3</td>\n",
       "      <td>1298330000178</td>\n",
       "      <td>NaN</td>\n",
       "      <td>4</td>\n",
       "      <td>NaN</td>\n",
       "      <td>NaN</td>\n",
       "      <td>3.0</td>\n",
       "      <td>15</td>\n",
       "      <td>6</td>\n",
       "      <td>NaN</td>\n",
       "      <td>NaN</td>\n",
       "      <td>2</td>\n",
       "      <td>33</td>\n",
       "      <td>9</td>\n",
       "      <td>0</td>\n",
       "      <td>9</td>\n",
       "      <td>0</td>\n",
       "      <td>202001</td>\n",
       "      <td>1244</td>\n",
       "    </tr>\n",
       "    <tr>\n",
       "      <th>1</th>\n",
       "      <td>2335506</td>\n",
       "      <td>520013</td>\n",
       "      <td>15</td>\n",
       "      <td>NaN</td>\n",
       "      <td>NaN</td>\n",
       "      <td>NaN</td>\n",
       "      <td>M</td>\n",
       "      <td>3</td>\n",
       "      <td>269860000125</td>\n",
       "      <td>1</td>\n",
       "      <td>0</td>\n",
       "      <td>NaN</td>\n",
       "      <td>4</td>\n",
       "      <td>NaN</td>\n",
       "      <td>NaN</td>\n",
       "      <td>3.0</td>\n",
       "      <td>5</td>\n",
       "      <td>6</td>\n",
       "      <td>NaN</td>\n",
       "      <td>NaN</td>\n",
       "      <td>4</td>\n",
       "      <td>43</td>\n",
       "      <td>3</td>\n",
       "      <td>0</td>\n",
       "      <td>3</td>\n",
       "      <td>0</td>\n",
       "      <td>202001</td>\n",
       "      <td>2062</td>\n",
       "    </tr>\n",
       "    <tr>\n",
       "      <th>2</th>\n",
       "      <td>2335506</td>\n",
       "      <td>520013</td>\n",
       "      <td>15</td>\n",
       "      <td>NaN</td>\n",
       "      <td>NaN</td>\n",
       "      <td>NaN</td>\n",
       "      <td>M</td>\n",
       "      <td>3</td>\n",
       "      <td>269860000125</td>\n",
       "      <td>1</td>\n",
       "      <td>0</td>\n",
       "      <td>NaN</td>\n",
       "      <td>4</td>\n",
       "      <td>NaN</td>\n",
       "      <td>NaN</td>\n",
       "      <td>3.0</td>\n",
       "      <td>5</td>\n",
       "      <td>6</td>\n",
       "      <td>NaN</td>\n",
       "      <td>NaN</td>\n",
       "      <td>1</td>\n",
       "      <td>3</td>\n",
       "      <td>2</td>\n",
       "      <td>0</td>\n",
       "      <td>1</td>\n",
       "      <td>1</td>\n",
       "      <td>202001</td>\n",
       "      <td>2062</td>\n",
       "    </tr>\n",
       "    <tr>\n",
       "      <th>3</th>\n",
       "      <td>2335506</td>\n",
       "      <td>520013</td>\n",
       "      <td>15</td>\n",
       "      <td>NaN</td>\n",
       "      <td>NaN</td>\n",
       "      <td>NaN</td>\n",
       "      <td>M</td>\n",
       "      <td>3</td>\n",
       "      <td>269860000125</td>\n",
       "      <td>1</td>\n",
       "      <td>0</td>\n",
       "      <td>NaN</td>\n",
       "      <td>4</td>\n",
       "      <td>NaN</td>\n",
       "      <td>NaN</td>\n",
       "      <td>3.0</td>\n",
       "      <td>5</td>\n",
       "      <td>6</td>\n",
       "      <td>NaN</td>\n",
       "      <td>NaN</td>\n",
       "      <td>2</td>\n",
       "      <td>41</td>\n",
       "      <td>2</td>\n",
       "      <td>0</td>\n",
       "      <td>2</td>\n",
       "      <td>0</td>\n",
       "      <td>202001</td>\n",
       "      <td>2062</td>\n",
       "    </tr>\n",
       "    <tr>\n",
       "      <th>4</th>\n",
       "      <td>2335506</td>\n",
       "      <td>520013</td>\n",
       "      <td>15</td>\n",
       "      <td>NaN</td>\n",
       "      <td>NaN</td>\n",
       "      <td>NaN</td>\n",
       "      <td>M</td>\n",
       "      <td>3</td>\n",
       "      <td>269860000125</td>\n",
       "      <td>1</td>\n",
       "      <td>0</td>\n",
       "      <td>NaN</td>\n",
       "      <td>4</td>\n",
       "      <td>NaN</td>\n",
       "      <td>NaN</td>\n",
       "      <td>3.0</td>\n",
       "      <td>5</td>\n",
       "      <td>6</td>\n",
       "      <td>NaN</td>\n",
       "      <td>NaN</td>\n",
       "      <td>6</td>\n",
       "      <td>34</td>\n",
       "      <td>4</td>\n",
       "      <td>0</td>\n",
       "      <td>3</td>\n",
       "      <td>1</td>\n",
       "      <td>202001</td>\n",
       "      <td>2062</td>\n",
       "    </tr>\n",
       "    <tr>\n",
       "      <th>...</th>\n",
       "      <td>...</td>\n",
       "      <td>...</td>\n",
       "      <td>...</td>\n",
       "      <td>...</td>\n",
       "      <td>...</td>\n",
       "      <td>...</td>\n",
       "      <td>...</td>\n",
       "      <td>...</td>\n",
       "      <td>...</td>\n",
       "      <td>...</td>\n",
       "      <td>...</td>\n",
       "      <td>...</td>\n",
       "      <td>...</td>\n",
       "      <td>...</td>\n",
       "      <td>...</td>\n",
       "      <td>...</td>\n",
       "      <td>...</td>\n",
       "      <td>...</td>\n",
       "      <td>...</td>\n",
       "      <td>...</td>\n",
       "      <td>...</td>\n",
       "      <td>...</td>\n",
       "      <td>...</td>\n",
       "      <td>...</td>\n",
       "      <td>...</td>\n",
       "      <td>...</td>\n",
       "      <td>...</td>\n",
       "      <td>...</td>\n",
       "    </tr>\n",
       "    <tr>\n",
       "      <th>103493</th>\n",
       "      <td>2383691</td>\n",
       "      <td>522205</td>\n",
       "      <td>001</td>\n",
       "      <td>NaN</td>\n",
       "      <td>NaN</td>\n",
       "      <td>NaN</td>\n",
       "      <td>M</td>\n",
       "      <td>3</td>\n",
       "      <td>0</td>\n",
       "      <td>3</td>\n",
       "      <td>44834000107</td>\n",
       "      <td>NaN</td>\n",
       "      <td>4</td>\n",
       "      <td>NaN</td>\n",
       "      <td>NaN</td>\n",
       "      <td>3.0</td>\n",
       "      <td>5</td>\n",
       "      <td>6</td>\n",
       "      <td>NaN</td>\n",
       "      <td>NaN</td>\n",
       "      <td>1</td>\n",
       "      <td>3</td>\n",
       "      <td>3</td>\n",
       "      <td>0</td>\n",
       "      <td>3</td>\n",
       "      <td>0</td>\n",
       "      <td>202211</td>\n",
       "      <td>1244</td>\n",
       "    </tr>\n",
       "    <tr>\n",
       "      <th>103494</th>\n",
       "      <td>2383691</td>\n",
       "      <td>522205</td>\n",
       "      <td>001</td>\n",
       "      <td>NaN</td>\n",
       "      <td>NaN</td>\n",
       "      <td>NaN</td>\n",
       "      <td>M</td>\n",
       "      <td>3</td>\n",
       "      <td>0</td>\n",
       "      <td>3</td>\n",
       "      <td>44834000107</td>\n",
       "      <td>NaN</td>\n",
       "      <td>4</td>\n",
       "      <td>NaN</td>\n",
       "      <td>NaN</td>\n",
       "      <td>3.0</td>\n",
       "      <td>5</td>\n",
       "      <td>6</td>\n",
       "      <td>NaN</td>\n",
       "      <td>NaN</td>\n",
       "      <td>4</td>\n",
       "      <td>10</td>\n",
       "      <td>3</td>\n",
       "      <td>0</td>\n",
       "      <td>3</td>\n",
       "      <td>0</td>\n",
       "      <td>202211</td>\n",
       "      <td>1244</td>\n",
       "    </tr>\n",
       "    <tr>\n",
       "      <th>103495</th>\n",
       "      <td>2439883</td>\n",
       "      <td>522220</td>\n",
       "      <td>02</td>\n",
       "      <td>NaN</td>\n",
       "      <td>NaN</td>\n",
       "      <td>NaN</td>\n",
       "      <td>M</td>\n",
       "      <td>3</td>\n",
       "      <td>0</td>\n",
       "      <td>3</td>\n",
       "      <td>37388378000114</td>\n",
       "      <td>NaN</td>\n",
       "      <td>4</td>\n",
       "      <td>NaN</td>\n",
       "      <td>NaN</td>\n",
       "      <td>3.0</td>\n",
       "      <td>5</td>\n",
       "      <td>6</td>\n",
       "      <td>NaN</td>\n",
       "      <td>NaN</td>\n",
       "      <td>2</td>\n",
       "      <td>33</td>\n",
       "      <td>7</td>\n",
       "      <td>0</td>\n",
       "      <td>7</td>\n",
       "      <td>0</td>\n",
       "      <td>202211</td>\n",
       "      <td>1244</td>\n",
       "    </tr>\n",
       "    <tr>\n",
       "      <th>103496</th>\n",
       "      <td>2439883</td>\n",
       "      <td>522220</td>\n",
       "      <td>02</td>\n",
       "      <td>NaN</td>\n",
       "      <td>NaN</td>\n",
       "      <td>NaN</td>\n",
       "      <td>M</td>\n",
       "      <td>3</td>\n",
       "      <td>0</td>\n",
       "      <td>3</td>\n",
       "      <td>37388378000114</td>\n",
       "      <td>NaN</td>\n",
       "      <td>4</td>\n",
       "      <td>NaN</td>\n",
       "      <td>NaN</td>\n",
       "      <td>3.0</td>\n",
       "      <td>5</td>\n",
       "      <td>6</td>\n",
       "      <td>NaN</td>\n",
       "      <td>NaN</td>\n",
       "      <td>4</td>\n",
       "      <td>43</td>\n",
       "      <td>2</td>\n",
       "      <td>0</td>\n",
       "      <td>2</td>\n",
       "      <td>0</td>\n",
       "      <td>202211</td>\n",
       "      <td>1244</td>\n",
       "    </tr>\n",
       "    <tr>\n",
       "      <th>103497</th>\n",
       "      <td>2439883</td>\n",
       "      <td>522220</td>\n",
       "      <td>02</td>\n",
       "      <td>NaN</td>\n",
       "      <td>NaN</td>\n",
       "      <td>NaN</td>\n",
       "      <td>M</td>\n",
       "      <td>3</td>\n",
       "      <td>0</td>\n",
       "      <td>3</td>\n",
       "      <td>37388378000114</td>\n",
       "      <td>NaN</td>\n",
       "      <td>4</td>\n",
       "      <td>NaN</td>\n",
       "      <td>NaN</td>\n",
       "      <td>3.0</td>\n",
       "      <td>5</td>\n",
       "      <td>6</td>\n",
       "      <td>NaN</td>\n",
       "      <td>NaN</td>\n",
       "      <td>5</td>\n",
       "      <td>45</td>\n",
       "      <td>4</td>\n",
       "      <td>0</td>\n",
       "      <td>4</td>\n",
       "      <td>0</td>\n",
       "      <td>202211</td>\n",
       "      <td>1244</td>\n",
       "    </tr>\n",
       "  </tbody>\n",
       "</table>\n",
       "<p>103498 rows × 28 columns</p>\n",
       "</div>"
      ],
      "text/plain": [
       "           CNES  CODUFMUN REGSAUDE MICR_REG  DISTRSAN DISTRADM TPGESTAO  \\\n",
       "0       9331603    520010      NaN      NaN       NaN      NaN        M   \n",
       "1       2335506    520013       15      NaN       NaN      NaN        M   \n",
       "2       2335506    520013       15      NaN       NaN      NaN        M   \n",
       "3       2335506    520013       15      NaN       NaN      NaN        M   \n",
       "4       2335506    520013       15      NaN       NaN      NaN        M   \n",
       "...         ...       ...      ...      ...       ...      ...      ...   \n",
       "103493  2383691    522205      001      NaN       NaN      NaN        M   \n",
       "103494  2383691    522205      001      NaN       NaN      NaN        M   \n",
       "103495  2439883    522220       02      NaN       NaN      NaN        M   \n",
       "103496  2439883    522220       02      NaN       NaN      NaN        M   \n",
       "103497  2439883    522220       02      NaN       NaN      NaN        M   \n",
       "\n",
       "        PF_PJ      CPF_CNPJ  NIV_DEP        CNPJ_MAN  ESFERA_A  ATIVIDAD  \\\n",
       "0           3             0        3   1298330000178       NaN         4   \n",
       "1           3  269860000125        1               0       NaN         4   \n",
       "2           3  269860000125        1               0       NaN         4   \n",
       "3           3  269860000125        1               0       NaN         4   \n",
       "4           3  269860000125        1               0       NaN         4   \n",
       "...       ...           ...      ...             ...       ...       ...   \n",
       "103493      3             0        3     44834000107       NaN         4   \n",
       "103494      3             0        3     44834000107       NaN         4   \n",
       "103495      3             0        3  37388378000114       NaN         4   \n",
       "103496      3             0        3  37388378000114       NaN         4   \n",
       "103497      3             0        3  37388378000114       NaN         4   \n",
       "\n",
       "        RETENCAO  NATUREZA  CLIENTEL  TP_UNID  TURNO_AT  NIV_HIER  TERCEIRO  \\\n",
       "0            NaN       NaN       3.0       15         6       NaN       NaN   \n",
       "1            NaN       NaN       3.0        5         6       NaN       NaN   \n",
       "2            NaN       NaN       3.0        5         6       NaN       NaN   \n",
       "3            NaN       NaN       3.0        5         6       NaN       NaN   \n",
       "4            NaN       NaN       3.0        5         6       NaN       NaN   \n",
       "...          ...       ...       ...      ...       ...       ...       ...   \n",
       "103493       NaN       NaN       3.0        5         6       NaN       NaN   \n",
       "103494       NaN       NaN       3.0        5         6       NaN       NaN   \n",
       "103495       NaN       NaN       3.0        5         6       NaN       NaN   \n",
       "103496       NaN       NaN       3.0        5         6       NaN       NaN   \n",
       "103497       NaN       NaN       3.0        5         6       NaN       NaN   \n",
       "\n",
       "        TP_LEITO  CODLEITO  QT_EXIST  QT_CONTR  QT_SUS  QT_NSUS  COMPETEN  \\\n",
       "0              2        33         9         0       9        0    202001   \n",
       "1              4        43         3         0       3        0    202001   \n",
       "2              1         3         2         0       1        1    202001   \n",
       "3              2        41         2         0       2        0    202001   \n",
       "4              6        34         4         0       3        1    202001   \n",
       "...          ...       ...       ...       ...     ...      ...       ...   \n",
       "103493         1         3         3         0       3        0    202211   \n",
       "103494         4        10         3         0       3        0    202211   \n",
       "103495         2        33         7         0       7        0    202211   \n",
       "103496         4        43         2         0       2        0    202211   \n",
       "103497         5        45         4         0       4        0    202211   \n",
       "\n",
       "        NAT_JUR  \n",
       "0          1244  \n",
       "1          2062  \n",
       "2          2062  \n",
       "3          2062  \n",
       "4          2062  \n",
       "...         ...  \n",
       "103493     1244  \n",
       "103494     1244  \n",
       "103495     1244  \n",
       "103496     1244  \n",
       "103497     1244  \n",
       "\n",
       "[103498 rows x 28 columns]"
      ]
     },
     "metadata": {},
     "output_type": "display_data"
    }
   ],
   "source": [
    "#lendo a base de dados obtida com o \"microdatasus\" do R!\n",
    "df = pd.read_csv(\"CNES_SUS.csv\", encoding=\"latin_1\")\n",
    "pd.set_option('display.max_columns', None)\n",
    "display(df)"
   ]
  },
  {
   "cell_type": "markdown",
   "id": "a8e421f1",
   "metadata": {},
   "source": [
    "#### Aqui já percebo algumas colunas que podem ser removidas (por estarem completamente vazias):\n",
    "\n",
    "DISTRSAN - Código do distrito sanitário\n",
    "\n",
    "ESFERA_A - Código da esfera administrativa\n",
    "\n",
    "RETENCAO - Código de retenção de tributos\n",
    "\n",
    "NATUREZA - Código da natureza da organização\n",
    "\n",
    "NIV_HIER - Código do nível de hierarquia\n",
    "\n",
    "TERCEIRO - O estabelecimento é terceiro: 1-Sim 0-Não .\n",
    "\n",
    "#### Também vou verificar as oturas coluna que não vou utilizar nas análises."
   ]
  },
  {
   "cell_type": "code",
   "execution_count": 3,
   "id": "00ed9fff",
   "metadata": {},
   "outputs": [
    {
     "name": "stdout",
     "output_type": "stream",
     "text": [
      "<class 'pandas.core.frame.DataFrame'>\n",
      "RangeIndex: 103498 entries, 0 to 103497\n",
      "Data columns (total 28 columns):\n",
      " #   Column    Non-Null Count   Dtype  \n",
      "---  ------    --------------   -----  \n",
      " 0   CNES      103498 non-null  int64  \n",
      " 1   CODUFMUN  103498 non-null  int64  \n",
      " 2   REGSAUDE  63062 non-null   object \n",
      " 3   MICR_REG  5428 non-null    object \n",
      " 4   DISTRSAN  0 non-null       float64\n",
      " 5   DISTRADM  1110 non-null    object \n",
      " 6   TPGESTAO  103498 non-null  object \n",
      " 7   PF_PJ     103498 non-null  int64  \n",
      " 8   CPF_CNPJ  103498 non-null  int64  \n",
      " 9   NIV_DEP   103498 non-null  int64  \n",
      " 10  CNPJ_MAN  103498 non-null  int64  \n",
      " 11  ESFERA_A  0 non-null       float64\n",
      " 12  ATIVIDAD  103498 non-null  int64  \n",
      " 13  RETENCAO  0 non-null       float64\n",
      " 14  NATUREZA  0 non-null       float64\n",
      " 15  CLIENTEL  102951 non-null  float64\n",
      " 16  TP_UNID   103498 non-null  int64  \n",
      " 17  TURNO_AT  103498 non-null  int64  \n",
      " 18  NIV_HIER  0 non-null       float64\n",
      " 19  TERCEIRO  0 non-null       float64\n",
      " 20  TP_LEITO  103498 non-null  int64  \n",
      " 21  CODLEITO  103498 non-null  int64  \n",
      " 22  QT_EXIST  103498 non-null  int64  \n",
      " 23  QT_CONTR  103498 non-null  int64  \n",
      " 24  QT_SUS    103498 non-null  int64  \n",
      " 25  QT_NSUS   103498 non-null  int64  \n",
      " 26  COMPETEN  103498 non-null  int64  \n",
      " 27  NAT_JUR   103498 non-null  int64  \n",
      "dtypes: float64(7), int64(17), object(4)\n",
      "memory usage: 22.1+ MB\n"
     ]
    }
   ],
   "source": [
    "df.info()"
   ]
  },
  {
   "cell_type": "code",
   "execution_count": 4,
   "id": "545c830e",
   "metadata": {},
   "outputs": [
    {
     "data": {
      "text/html": [
       "<div>\n",
       "<style scoped>\n",
       "    .dataframe tbody tr th:only-of-type {\n",
       "        vertical-align: middle;\n",
       "    }\n",
       "\n",
       "    .dataframe tbody tr th {\n",
       "        vertical-align: top;\n",
       "    }\n",
       "\n",
       "    .dataframe thead th {\n",
       "        text-align: right;\n",
       "    }\n",
       "</style>\n",
       "<table border=\"1\" class=\"dataframe\">\n",
       "  <thead>\n",
       "    <tr style=\"text-align: right;\">\n",
       "      <th></th>\n",
       "      <th>CNES</th>\n",
       "      <th>CODUFMUN</th>\n",
       "      <th>DISTRSAN</th>\n",
       "      <th>PF_PJ</th>\n",
       "      <th>CPF_CNPJ</th>\n",
       "      <th>NIV_DEP</th>\n",
       "      <th>CNPJ_MAN</th>\n",
       "      <th>ESFERA_A</th>\n",
       "      <th>ATIVIDAD</th>\n",
       "      <th>RETENCAO</th>\n",
       "      <th>NATUREZA</th>\n",
       "      <th>CLIENTEL</th>\n",
       "      <th>TP_UNID</th>\n",
       "      <th>TURNO_AT</th>\n",
       "      <th>NIV_HIER</th>\n",
       "      <th>TERCEIRO</th>\n",
       "      <th>TP_LEITO</th>\n",
       "      <th>CODLEITO</th>\n",
       "      <th>QT_EXIST</th>\n",
       "      <th>QT_CONTR</th>\n",
       "      <th>QT_SUS</th>\n",
       "      <th>QT_NSUS</th>\n",
       "      <th>COMPETEN</th>\n",
       "      <th>NAT_JUR</th>\n",
       "    </tr>\n",
       "  </thead>\n",
       "  <tbody>\n",
       "    <tr>\n",
       "      <th>count</th>\n",
       "      <td>1.034980e+05</td>\n",
       "      <td>103498.000000</td>\n",
       "      <td>0.0</td>\n",
       "      <td>103498.0</td>\n",
       "      <td>1.034980e+05</td>\n",
       "      <td>103498.000000</td>\n",
       "      <td>1.034980e+05</td>\n",
       "      <td>0.0</td>\n",
       "      <td>103498.000000</td>\n",
       "      <td>0.0</td>\n",
       "      <td>0.0</td>\n",
       "      <td>102951.000000</td>\n",
       "      <td>103498.000000</td>\n",
       "      <td>103498.000000</td>\n",
       "      <td>0.0</td>\n",
       "      <td>0.0</td>\n",
       "      <td>103498.000000</td>\n",
       "      <td>103498.000000</td>\n",
       "      <td>103498.000000</td>\n",
       "      <td>103498.0</td>\n",
       "      <td>103498.000000</td>\n",
       "      <td>103498.000000</td>\n",
       "      <td>103498.000000</td>\n",
       "      <td>103498.000000</td>\n",
       "    </tr>\n",
       "    <tr>\n",
       "      <th>mean</th>\n",
       "      <td>3.257750e+06</td>\n",
       "      <td>521015.281938</td>\n",
       "      <td>NaN</td>\n",
       "      <td>3.0</td>\n",
       "      <td>5.341211e+12</td>\n",
       "      <td>1.814315</td>\n",
       "      <td>2.265187e+12</td>\n",
       "      <td>NaN</td>\n",
       "      <td>3.946250</td>\n",
       "      <td>NaN</td>\n",
       "      <td>NaN</td>\n",
       "      <td>2.606259</td>\n",
       "      <td>7.058871</td>\n",
       "      <td>5.664361</td>\n",
       "      <td>NaN</td>\n",
       "      <td>NaN</td>\n",
       "      <td>2.669771</td>\n",
       "      <td>31.241454</td>\n",
       "      <td>7.275252</td>\n",
       "      <td>0.0</td>\n",
       "      <td>4.372336</td>\n",
       "      <td>2.902916</td>\n",
       "      <td>202104.822934</td>\n",
       "      <td>1900.818190</td>\n",
       "    </tr>\n",
       "    <tr>\n",
       "      <th>std</th>\n",
       "      <td>2.030480e+06</td>\n",
       "      <td>556.824212</td>\n",
       "      <td>NaN</td>\n",
       "      <td>0.0</td>\n",
       "      <td>1.116196e+13</td>\n",
       "      <td>0.982614</td>\n",
       "      <td>6.770951e+12</td>\n",
       "      <td>NaN</td>\n",
       "      <td>0.319545</td>\n",
       "      <td>NaN</td>\n",
       "      <td>NaN</td>\n",
       "      <td>0.772546</td>\n",
       "      <td>9.581532</td>\n",
       "      <td>0.854806</td>\n",
       "      <td>NaN</td>\n",
       "      <td>NaN</td>\n",
       "      <td>1.623979</td>\n",
       "      <td>23.737058</td>\n",
       "      <td>15.028129</td>\n",
       "      <td>0.0</td>\n",
       "      <td>11.496511</td>\n",
       "      <td>8.553615</td>\n",
       "      <td>80.700848</td>\n",
       "      <td>797.306038</td>\n",
       "    </tr>\n",
       "    <tr>\n",
       "      <th>min</th>\n",
       "      <td>2.407400e+04</td>\n",
       "      <td>520010.000000</td>\n",
       "      <td>NaN</td>\n",
       "      <td>3.0</td>\n",
       "      <td>0.000000e+00</td>\n",
       "      <td>1.000000</td>\n",
       "      <td>0.000000e+00</td>\n",
       "      <td>NaN</td>\n",
       "      <td>1.000000</td>\n",
       "      <td>NaN</td>\n",
       "      <td>NaN</td>\n",
       "      <td>1.000000</td>\n",
       "      <td>5.000000</td>\n",
       "      <td>3.000000</td>\n",
       "      <td>NaN</td>\n",
       "      <td>NaN</td>\n",
       "      <td>1.000000</td>\n",
       "      <td>1.000000</td>\n",
       "      <td>0.000000</td>\n",
       "      <td>0.0</td>\n",
       "      <td>0.000000</td>\n",
       "      <td>0.000000</td>\n",
       "      <td>202001.000000</td>\n",
       "      <td>1015.000000</td>\n",
       "    </tr>\n",
       "    <tr>\n",
       "      <th>25%</th>\n",
       "      <td>2.361396e+06</td>\n",
       "      <td>520780.000000</td>\n",
       "      <td>NaN</td>\n",
       "      <td>3.0</td>\n",
       "      <td>0.000000e+00</td>\n",
       "      <td>1.000000</td>\n",
       "      <td>0.000000e+00</td>\n",
       "      <td>NaN</td>\n",
       "      <td>4.000000</td>\n",
       "      <td>NaN</td>\n",
       "      <td>NaN</td>\n",
       "      <td>3.000000</td>\n",
       "      <td>5.000000</td>\n",
       "      <td>6.000000</td>\n",
       "      <td>NaN</td>\n",
       "      <td>NaN</td>\n",
       "      <td>1.000000</td>\n",
       "      <td>10.000000</td>\n",
       "      <td>2.000000</td>\n",
       "      <td>0.0</td>\n",
       "      <td>0.000000</td>\n",
       "      <td>0.000000</td>\n",
       "      <td>202010.000000</td>\n",
       "      <td>1244.000000</td>\n",
       "    </tr>\n",
       "    <tr>\n",
       "      <th>50%</th>\n",
       "      <td>2.500132e+06</td>\n",
       "      <td>520870.000000</td>\n",
       "      <td>NaN</td>\n",
       "      <td>3.0</td>\n",
       "      <td>1.323146e+12</td>\n",
       "      <td>1.000000</td>\n",
       "      <td>0.000000e+00</td>\n",
       "      <td>NaN</td>\n",
       "      <td>4.000000</td>\n",
       "      <td>NaN</td>\n",
       "      <td>NaN</td>\n",
       "      <td>3.000000</td>\n",
       "      <td>5.000000</td>\n",
       "      <td>6.000000</td>\n",
       "      <td>NaN</td>\n",
       "      <td>NaN</td>\n",
       "      <td>2.000000</td>\n",
       "      <td>33.000000</td>\n",
       "      <td>4.000000</td>\n",
       "      <td>0.0</td>\n",
       "      <td>1.000000</td>\n",
       "      <td>1.000000</td>\n",
       "      <td>202106.000000</td>\n",
       "      <td>2062.000000</td>\n",
       "    </tr>\n",
       "    <tr>\n",
       "      <th>75%</th>\n",
       "      <td>2.589230e+06</td>\n",
       "      <td>521310.000000</td>\n",
       "      <td>NaN</td>\n",
       "      <td>3.0</td>\n",
       "      <td>2.608131e+12</td>\n",
       "      <td>3.000000</td>\n",
       "      <td>1.740448e+12</td>\n",
       "      <td>NaN</td>\n",
       "      <td>4.000000</td>\n",
       "      <td>NaN</td>\n",
       "      <td>NaN</td>\n",
       "      <td>3.000000</td>\n",
       "      <td>5.000000</td>\n",
       "      <td>6.000000</td>\n",
       "      <td>NaN</td>\n",
       "      <td>NaN</td>\n",
       "      <td>4.000000</td>\n",
       "      <td>45.000000</td>\n",
       "      <td>8.000000</td>\n",
       "      <td>0.0</td>\n",
       "      <td>4.000000</td>\n",
       "      <td>3.000000</td>\n",
       "      <td>202203.000000</td>\n",
       "      <td>2062.000000</td>\n",
       "    </tr>\n",
       "    <tr>\n",
       "      <th>max</th>\n",
       "      <td>9.953086e+06</td>\n",
       "      <td>522220.000000</td>\n",
       "      <td>NaN</td>\n",
       "      <td>3.0</td>\n",
       "      <td>8.684038e+13</td>\n",
       "      <td>3.000000</td>\n",
       "      <td>6.097574e+13</td>\n",
       "      <td>NaN</td>\n",
       "      <td>5.000000</td>\n",
       "      <td>NaN</td>\n",
       "      <td>NaN</td>\n",
       "      <td>3.000000</td>\n",
       "      <td>77.000000</td>\n",
       "      <td>6.000000</td>\n",
       "      <td>NaN</td>\n",
       "      <td>NaN</td>\n",
       "      <td>7.000000</td>\n",
       "      <td>96.000000</td>\n",
       "      <td>343.000000</td>\n",
       "      <td>0.0</td>\n",
       "      <td>275.000000</td>\n",
       "      <td>203.000000</td>\n",
       "      <td>202211.000000</td>\n",
       "      <td>3999.000000</td>\n",
       "    </tr>\n",
       "  </tbody>\n",
       "</table>\n",
       "</div>"
      ],
      "text/plain": [
       "               CNES       CODUFMUN  DISTRSAN     PF_PJ      CPF_CNPJ  \\\n",
       "count  1.034980e+05  103498.000000       0.0  103498.0  1.034980e+05   \n",
       "mean   3.257750e+06  521015.281938       NaN       3.0  5.341211e+12   \n",
       "std    2.030480e+06     556.824212       NaN       0.0  1.116196e+13   \n",
       "min    2.407400e+04  520010.000000       NaN       3.0  0.000000e+00   \n",
       "25%    2.361396e+06  520780.000000       NaN       3.0  0.000000e+00   \n",
       "50%    2.500132e+06  520870.000000       NaN       3.0  1.323146e+12   \n",
       "75%    2.589230e+06  521310.000000       NaN       3.0  2.608131e+12   \n",
       "max    9.953086e+06  522220.000000       NaN       3.0  8.684038e+13   \n",
       "\n",
       "             NIV_DEP      CNPJ_MAN  ESFERA_A       ATIVIDAD  RETENCAO  \\\n",
       "count  103498.000000  1.034980e+05       0.0  103498.000000       0.0   \n",
       "mean        1.814315  2.265187e+12       NaN       3.946250       NaN   \n",
       "std         0.982614  6.770951e+12       NaN       0.319545       NaN   \n",
       "min         1.000000  0.000000e+00       NaN       1.000000       NaN   \n",
       "25%         1.000000  0.000000e+00       NaN       4.000000       NaN   \n",
       "50%         1.000000  0.000000e+00       NaN       4.000000       NaN   \n",
       "75%         3.000000  1.740448e+12       NaN       4.000000       NaN   \n",
       "max         3.000000  6.097574e+13       NaN       5.000000       NaN   \n",
       "\n",
       "       NATUREZA       CLIENTEL        TP_UNID       TURNO_AT  NIV_HIER  \\\n",
       "count       0.0  102951.000000  103498.000000  103498.000000       0.0   \n",
       "mean        NaN       2.606259       7.058871       5.664361       NaN   \n",
       "std         NaN       0.772546       9.581532       0.854806       NaN   \n",
       "min         NaN       1.000000       5.000000       3.000000       NaN   \n",
       "25%         NaN       3.000000       5.000000       6.000000       NaN   \n",
       "50%         NaN       3.000000       5.000000       6.000000       NaN   \n",
       "75%         NaN       3.000000       5.000000       6.000000       NaN   \n",
       "max         NaN       3.000000      77.000000       6.000000       NaN   \n",
       "\n",
       "       TERCEIRO       TP_LEITO       CODLEITO       QT_EXIST  QT_CONTR  \\\n",
       "count       0.0  103498.000000  103498.000000  103498.000000  103498.0   \n",
       "mean        NaN       2.669771      31.241454       7.275252       0.0   \n",
       "std         NaN       1.623979      23.737058      15.028129       0.0   \n",
       "min         NaN       1.000000       1.000000       0.000000       0.0   \n",
       "25%         NaN       1.000000      10.000000       2.000000       0.0   \n",
       "50%         NaN       2.000000      33.000000       4.000000       0.0   \n",
       "75%         NaN       4.000000      45.000000       8.000000       0.0   \n",
       "max         NaN       7.000000      96.000000     343.000000       0.0   \n",
       "\n",
       "              QT_SUS        QT_NSUS       COMPETEN        NAT_JUR  \n",
       "count  103498.000000  103498.000000  103498.000000  103498.000000  \n",
       "mean        4.372336       2.902916  202104.822934    1900.818190  \n",
       "std        11.496511       8.553615      80.700848     797.306038  \n",
       "min         0.000000       0.000000  202001.000000    1015.000000  \n",
       "25%         0.000000       0.000000  202010.000000    1244.000000  \n",
       "50%         1.000000       1.000000  202106.000000    2062.000000  \n",
       "75%         4.000000       3.000000  202203.000000    2062.000000  \n",
       "max       275.000000     203.000000  202211.000000    3999.000000  "
      ]
     },
     "execution_count": 4,
     "metadata": {},
     "output_type": "execute_result"
    }
   ],
   "source": [
    "df.describe()"
   ]
  },
  {
   "cell_type": "code",
   "execution_count": 5,
   "id": "c2f6f204",
   "metadata": {},
   "outputs": [
    {
     "data": {
      "text/plain": [
       "2339218    1365\n",
       "2338424    1232\n",
       "2518406    1156\n",
       "9744665    1155\n",
       "2518155    1100\n",
       "           ... \n",
       "2987171       4\n",
       "3958183       2\n",
       "3994422       2\n",
       "7529368       1\n",
       "251682        1\n",
       "Name: CNES, Length: 546, dtype: int64"
      ]
     },
     "execution_count": 5,
     "metadata": {},
     "output_type": "execute_result"
    }
   ],
   "source": [
    "df[\"CNES\"].value_counts()"
   ]
  },
  {
   "cell_type": "code",
   "execution_count": 6,
   "id": "bfd41729",
   "metadata": {},
   "outputs": [
    {
     "data": {
      "text/plain": [
       "520870    32972\n",
       "520110     3874\n",
       "520540     3148\n",
       "520140     2785\n",
       "521880     2728\n",
       "          ...  \n",
       "520180       35\n",
       "520010       35\n",
       "520310       33\n",
       "521390       30\n",
       "521523       30\n",
       "Name: CODUFMUN, Length: 194, dtype: int64"
      ]
     },
     "execution_count": 6,
     "metadata": {},
     "output_type": "execute_result"
    }
   ],
   "source": [
    "df[\"CODUFMUN\"].value_counts()"
   ]
  },
  {
   "cell_type": "code",
   "execution_count": 7,
   "id": "11eb5c63",
   "metadata": {},
   "outputs": [
    {
     "data": {
      "text/plain": [
       "count     63062\n",
       "unique       48\n",
       "top           1\n",
       "freq       7810\n",
       "Name: REGSAUDE, dtype: object"
      ]
     },
     "execution_count": 7,
     "metadata": {},
     "output_type": "execute_result"
    }
   ],
   "source": [
    "df[\"REGSAUDE\"].describe()"
   ]
  },
  {
   "cell_type": "code",
   "execution_count": 8,
   "id": "b2c989b6",
   "metadata": {},
   "outputs": [
    {
     "data": {
      "text/plain": [
       "count     5428\n",
       "unique       8\n",
       "top        SUL\n",
       "freq      2544\n",
       "Name: MICR_REG, dtype: object"
      ]
     },
     "execution_count": 8,
     "metadata": {},
     "output_type": "execute_result"
    }
   ],
   "source": [
    "df[\"MICR_REG\"].describe()"
   ]
  },
  {
   "cell_type": "code",
   "execution_count": 9,
   "id": "dec3b488",
   "metadata": {},
   "outputs": [
    {
     "data": {
      "text/plain": [
       "count    103498.0\n",
       "mean          3.0\n",
       "std           0.0\n",
       "min           3.0\n",
       "25%           3.0\n",
       "50%           3.0\n",
       "75%           3.0\n",
       "max           3.0\n",
       "Name: PF_PJ, dtype: float64"
      ]
     },
     "execution_count": 9,
     "metadata": {},
     "output_type": "execute_result"
    }
   ],
   "source": [
    "df[\"PF_PJ\"].describe()"
   ]
  },
  {
   "cell_type": "markdown",
   "id": "adf40492",
   "metadata": {},
   "source": [
    "Aqui percebo que nesta coluna PF_PJ só existem registros como 3 (que seriam pessoas jurídicas). Ou seja, todos os 103498 registros da tabela são registrados como pessoa jurídica (que seria o estabelecimento). Então posso remover a coluna também."
   ]
  },
  {
   "cell_type": "code",
   "execution_count": 10,
   "id": "a93bfd07",
   "metadata": {},
   "outputs": [
    {
     "data": {
      "text/plain": [
       "3    103498\n",
       "Name: PF_PJ, dtype: int64"
      ]
     },
     "execution_count": 10,
     "metadata": {},
     "output_type": "execute_result"
    }
   ],
   "source": [
    "df[\"PF_PJ\"].value_counts()"
   ]
  },
  {
   "cell_type": "code",
   "execution_count": 11,
   "id": "650f5992",
   "metadata": {},
   "outputs": [
    {
     "data": {
      "text/plain": [
       "0                 40800\n",
       "1625151000106      1365\n",
       "1567601000224      1232\n",
       "17239624000169     1155\n",
       "33620899000102     1100\n",
       "                  ...  \n",
       "1613433003605         6\n",
       "2274652000140         5\n",
       "20630241000121        5\n",
       "38710074000194        4\n",
       "10846245000198        2\n",
       "Name: CPF_CNPJ, Length: 296, dtype: int64"
      ]
     },
     "execution_count": 11,
     "metadata": {},
     "output_type": "execute_result"
    }
   ],
   "source": [
    "df[\"CPF_CNPJ\"].value_counts()"
   ]
  },
  {
   "cell_type": "code",
   "execution_count": 12,
   "id": "9a417212",
   "metadata": {},
   "outputs": [
    {
     "data": {
      "text/plain": [
       "1    61358\n",
       "3    42140\n",
       "Name: NIV_DEP, dtype: int64"
      ]
     },
     "execution_count": 12,
     "metadata": {},
     "output_type": "execute_result"
    }
   ],
   "source": [
    "df[\"NIV_DEP\"].value_counts()"
   ]
  },
  {
   "cell_type": "code",
   "execution_count": 13,
   "id": "0a05449b",
   "metadata": {},
   "outputs": [
    {
     "data": {
      "text/plain": [
       "0                 61358\n",
       "2529964000157      5892\n",
       "1567601000143      1324\n",
       "25141524000123      996\n",
       "2056778000148       574\n",
       "                  ...  \n",
       "1629276000104        30\n",
       "2267698000131        30\n",
       "2321917000113        25\n",
       "1219807000182        23\n",
       "1825413000178         9\n",
       "Name: CNPJ_MAN, Length: 192, dtype: int64"
      ]
     },
     "execution_count": 13,
     "metadata": {},
     "output_type": "execute_result"
    }
   ],
   "source": [
    "df[\"CNPJ_MAN\"].value_counts()"
   ]
  },
  {
   "cell_type": "code",
   "execution_count": 14,
   "id": "9eb5c476",
   "metadata": {},
   "outputs": [
    {
     "data": {
      "text/plain": [
       "4    93787\n",
       "3     7243\n",
       "5     2236\n",
       "2      140\n",
       "1       92\n",
       "Name: ATIVIDAD, dtype: int64"
      ]
     },
     "execution_count": 14,
     "metadata": {},
     "output_type": "execute_result"
    }
   ],
   "source": [
    "df[\"ATIVIDAD\"].value_counts()"
   ]
  },
  {
   "cell_type": "code",
   "execution_count": 15,
   "id": "4ff5f57c",
   "metadata": {},
   "outputs": [
    {
     "data": {
      "text/plain": [
       "3.0    80849\n",
       "1.0    18434\n",
       "2.0     3668\n",
       "Name: CLIENTEL, dtype: int64"
      ]
     },
     "execution_count": 15,
     "metadata": {},
     "output_type": "execute_result"
    }
   ],
   "source": [
    "df[\"CLIENTEL\"].value_counts()"
   ]
  },
  {
   "cell_type": "code",
   "execution_count": 16,
   "id": "7b36ac03",
   "metadata": {},
   "outputs": [
    {
     "data": {
      "text/plain": [
       "5     87713\n",
       "7     10743\n",
       "62     1513\n",
       "15     1330\n",
       "36      813\n",
       "20      451\n",
       "73      445\n",
       "70      218\n",
       "69      203\n",
       "21       41\n",
       "77       28\n",
       "Name: TP_UNID, dtype: int64"
      ]
     },
     "execution_count": 16,
     "metadata": {},
     "output_type": "execute_result"
    }
   ],
   "source": [
    "df[\"TP_UNID\"].value_counts()"
   ]
  },
  {
   "cell_type": "code",
   "execution_count": 17,
   "id": "bda8de23",
   "metadata": {},
   "outputs": [
    {
     "data": {
      "text/plain": [
       "6    88688\n",
       "4     7238\n",
       "3     6345\n",
       "5     1227\n",
       "Name: TURNO_AT, dtype: int64"
      ]
     },
     "execution_count": 17,
     "metadata": {},
     "output_type": "execute_result"
    }
   ],
   "source": [
    "df[\"TURNO_AT\"].value_counts()"
   ]
  },
  {
   "cell_type": "code",
   "execution_count": 18,
   "id": "8bdac8e7",
   "metadata": {},
   "outputs": [
    {
     "data": {
      "text/plain": [
       "1    33521\n",
       "2    24811\n",
       "4    16503\n",
       "3    11856\n",
       "5    11161\n",
       "6     3734\n",
       "7     1912\n",
       "Name: TP_LEITO, dtype: int64"
      ]
     },
     "execution_count": 18,
     "metadata": {},
     "output_type": "execute_result"
    }
   ],
   "source": [
    "df[\"TP_LEITO\"].value_counts()"
   ]
  },
  {
   "cell_type": "code",
   "execution_count": 19,
   "id": "6b8e2227",
   "metadata": {},
   "outputs": [
    {
     "data": {
      "text/plain": [
       "33    13600\n",
       "3     10862\n",
       "45     9832\n",
       "10     8423\n",
       "43     8080\n",
       "      ...  \n",
       "65       58\n",
       "52       54\n",
       "88       43\n",
       "89       13\n",
       "86        7\n",
       "Name: CODLEITO, Length: 67, dtype: int64"
      ]
     },
     "execution_count": 19,
     "metadata": {},
     "output_type": "execute_result"
    }
   ],
   "source": [
    "df[\"CODLEITO\"].value_counts()"
   ]
  },
  {
   "cell_type": "code",
   "execution_count": 20,
   "id": "4cca22a9",
   "metadata": {},
   "outputs": [
    {
     "data": {
      "text/plain": [
       "2      20694\n",
       "1      20467\n",
       "4      10972\n",
       "3      10251\n",
       "5       7097\n",
       "       ...  \n",
       "44         2\n",
       "61         1\n",
       "161        1\n",
       "121        1\n",
       "343        1\n",
       "Name: QT_EXIST, Length: 100, dtype: int64"
      ]
     },
     "execution_count": 20,
     "metadata": {},
     "output_type": "execute_result"
    }
   ],
   "source": [
    "df[\"QT_EXIST\"].value_counts()"
   ]
  },
  {
   "cell_type": "code",
   "execution_count": 21,
   "id": "47ebde41",
   "metadata": {},
   "outputs": [
    {
     "data": {
      "text/plain": [
       "752974"
      ]
     },
     "execution_count": 21,
     "metadata": {},
     "output_type": "execute_result"
    }
   ],
   "source": [
    "df[\"QT_EXIST\"].sum()"
   ]
  },
  {
   "cell_type": "markdown",
   "id": "ed6f18c0",
   "metadata": {},
   "source": [
    "Aqui percebi que nesta coluna nenhum dos registros conta com nenhum leito contratado. Posso deletar a coluna também."
   ]
  },
  {
   "cell_type": "code",
   "execution_count": 22,
   "id": "c18e81eb",
   "metadata": {},
   "outputs": [
    {
     "data": {
      "text/plain": [
       "0    103498\n",
       "Name: QT_CONTR, dtype: int64"
      ]
     },
     "execution_count": 22,
     "metadata": {},
     "output_type": "execute_result"
    }
   ],
   "source": [
    "df[\"QT_CONTR\"].value_counts()"
   ]
  },
  {
   "cell_type": "code",
   "execution_count": 23,
   "id": "f1f3b45a",
   "metadata": {},
   "outputs": [
    {
     "data": {
      "text/plain": [
       "0      40539\n",
       "1      12858\n",
       "2      11919\n",
       "4       7225\n",
       "3       6287\n",
       "       ...  \n",
       "68         3\n",
       "80         3\n",
       "275        1\n",
       "69         1\n",
       "71         1\n",
       "Name: QT_SUS, Length: 90, dtype: int64"
      ]
     },
     "execution_count": 23,
     "metadata": {},
     "output_type": "execute_result"
    }
   ],
   "source": [
    "df[\"QT_SUS\"].value_counts()"
   ]
  },
  {
   "cell_type": "code",
   "execution_count": 24,
   "id": "9ce51f09",
   "metadata": {},
   "outputs": [
    {
     "data": {
      "text/plain": [
       "452528"
      ]
     },
     "execution_count": 24,
     "metadata": {},
     "output_type": "execute_result"
    }
   ],
   "source": [
    "df[\"QT_SUS\"].sum()"
   ]
  },
  {
   "cell_type": "code",
   "execution_count": 25,
   "id": "e10ea33c",
   "metadata": {},
   "outputs": [
    {
     "data": {
      "text/plain": [
       "0     46303\n",
       "1     17017\n",
       "2     12767\n",
       "3      5609\n",
       "4      5143\n",
       "      ...  \n",
       "31        2\n",
       "90        1\n",
       "65        1\n",
       "86        1\n",
       "51        1\n",
       "Name: QT_NSUS, Length: 71, dtype: int64"
      ]
     },
     "execution_count": 25,
     "metadata": {},
     "output_type": "execute_result"
    }
   ],
   "source": [
    "df[\"QT_NSUS\"].value_counts()"
   ]
  },
  {
   "cell_type": "code",
   "execution_count": 26,
   "id": "b677c9b3",
   "metadata": {},
   "outputs": [
    {
     "data": {
      "text/plain": [
       "300446"
      ]
     },
     "execution_count": 26,
     "metadata": {},
     "output_type": "execute_result"
    }
   ],
   "source": [
    "df[\"QT_NSUS\"].sum()"
   ]
  },
  {
   "cell_type": "markdown",
   "id": "c645687c",
   "metadata": {},
   "source": [
    "COMPETEN é a data (no formato AAAAMM - ano e mês) da informação."
   ]
  },
  {
   "cell_type": "code",
   "execution_count": 27,
   "id": "0e4d9cf6",
   "metadata": {},
   "outputs": [
    {
     "data": {
      "text/plain": [
       "202203    3069\n",
       "202202    3068\n",
       "202201    3067\n",
       "202205    3056\n",
       "202204    3056\n",
       "202112    3046\n",
       "202108    3041\n",
       "202111    3036\n",
       "202110    3032\n",
       "202109    3026\n",
       "202107    3001\n",
       "202106    2984\n",
       "202105    2965\n",
       "202209    2964\n",
       "202208    2962\n",
       "202207    2960\n",
       "202210    2960\n",
       "202104    2956\n",
       "202206    2952\n",
       "202211    2944\n",
       "202012    2934\n",
       "202010    2924\n",
       "202009    2924\n",
       "202103    2922\n",
       "202011    2921\n",
       "202008    2918\n",
       "202101    2895\n",
       "202102    2889\n",
       "202007    2885\n",
       "202006    2870\n",
       "202004    2868\n",
       "202005    2862\n",
       "202003    2856\n",
       "202002    2844\n",
       "202001    2841\n",
       "Name: COMPETEN, dtype: int64"
      ]
     },
     "execution_count": 27,
     "metadata": {},
     "output_type": "execute_result"
    }
   ],
   "source": [
    "df[\"COMPETEN\"].value_counts()"
   ]
  },
  {
   "cell_type": "code",
   "execution_count": 28,
   "id": "f8c383b3",
   "metadata": {},
   "outputs": [
    {
     "data": {
      "text/plain": [
       "2062    43697\n",
       "1244    32495\n",
       "3999     9399\n",
       "1023     5892\n",
       "1031     2321\n",
       "2054     1923\n",
       "2305     1909\n",
       "2135     1404\n",
       "1104     1324\n",
       "3069     1008\n",
       "2143      992\n",
       "2089      469\n",
       "2240      279\n",
       "1015      245\n",
       "2232      141\n",
       "Name: NAT_JUR, dtype: int64"
      ]
     },
     "execution_count": 28,
     "metadata": {},
     "output_type": "execute_result"
    }
   ],
   "source": [
    "df[\"NAT_JUR\"].value_counts()"
   ]
  },
  {
   "cell_type": "markdown",
   "id": "a06b97ff",
   "metadata": {},
   "source": [
    "#### Então, vou retirar também as colunas CPF_CNPJ, NIV_DEP, CNPJ_MAN, ATIVIDAD, TP_UNID, TURNO_AT, QT_CONTR e NAT_JUR pois não vou utilizá-las em minhas análises."
   ]
  },
  {
   "cell_type": "markdown",
   "id": "cea2efd3",
   "metadata": {},
   "source": [
    "Dropando todas as colunas que não preciso."
   ]
  },
  {
   "cell_type": "code",
   "execution_count": 29,
   "id": "a2549c0e",
   "metadata": {},
   "outputs": [
    {
     "data": {
      "text/html": [
       "<div>\n",
       "<style scoped>\n",
       "    .dataframe tbody tr th:only-of-type {\n",
       "        vertical-align: middle;\n",
       "    }\n",
       "\n",
       "    .dataframe tbody tr th {\n",
       "        vertical-align: top;\n",
       "    }\n",
       "\n",
       "    .dataframe thead th {\n",
       "        text-align: right;\n",
       "    }\n",
       "</style>\n",
       "<table border=\"1\" class=\"dataframe\">\n",
       "  <thead>\n",
       "    <tr style=\"text-align: right;\">\n",
       "      <th></th>\n",
       "      <th>CNES</th>\n",
       "      <th>CODUFMUN</th>\n",
       "      <th>REGSAUDE</th>\n",
       "      <th>MICR_REG</th>\n",
       "      <th>DISTRADM</th>\n",
       "      <th>TPGESTAO</th>\n",
       "      <th>CLIENTEL</th>\n",
       "      <th>TP_LEITO</th>\n",
       "      <th>CODLEITO</th>\n",
       "      <th>QT_EXIST</th>\n",
       "      <th>QT_SUS</th>\n",
       "      <th>QT_NSUS</th>\n",
       "      <th>COMPETEN</th>\n",
       "    </tr>\n",
       "  </thead>\n",
       "  <tbody>\n",
       "    <tr>\n",
       "      <th>0</th>\n",
       "      <td>9331603</td>\n",
       "      <td>520010</td>\n",
       "      <td>NaN</td>\n",
       "      <td>NaN</td>\n",
       "      <td>NaN</td>\n",
       "      <td>M</td>\n",
       "      <td>3.0</td>\n",
       "      <td>2</td>\n",
       "      <td>33</td>\n",
       "      <td>9</td>\n",
       "      <td>9</td>\n",
       "      <td>0</td>\n",
       "      <td>202001</td>\n",
       "    </tr>\n",
       "    <tr>\n",
       "      <th>1</th>\n",
       "      <td>2335506</td>\n",
       "      <td>520013</td>\n",
       "      <td>15</td>\n",
       "      <td>NaN</td>\n",
       "      <td>NaN</td>\n",
       "      <td>M</td>\n",
       "      <td>3.0</td>\n",
       "      <td>4</td>\n",
       "      <td>43</td>\n",
       "      <td>3</td>\n",
       "      <td>3</td>\n",
       "      <td>0</td>\n",
       "      <td>202001</td>\n",
       "    </tr>\n",
       "    <tr>\n",
       "      <th>2</th>\n",
       "      <td>2335506</td>\n",
       "      <td>520013</td>\n",
       "      <td>15</td>\n",
       "      <td>NaN</td>\n",
       "      <td>NaN</td>\n",
       "      <td>M</td>\n",
       "      <td>3.0</td>\n",
       "      <td>1</td>\n",
       "      <td>3</td>\n",
       "      <td>2</td>\n",
       "      <td>1</td>\n",
       "      <td>1</td>\n",
       "      <td>202001</td>\n",
       "    </tr>\n",
       "    <tr>\n",
       "      <th>3</th>\n",
       "      <td>2335506</td>\n",
       "      <td>520013</td>\n",
       "      <td>15</td>\n",
       "      <td>NaN</td>\n",
       "      <td>NaN</td>\n",
       "      <td>M</td>\n",
       "      <td>3.0</td>\n",
       "      <td>2</td>\n",
       "      <td>41</td>\n",
       "      <td>2</td>\n",
       "      <td>2</td>\n",
       "      <td>0</td>\n",
       "      <td>202001</td>\n",
       "    </tr>\n",
       "    <tr>\n",
       "      <th>4</th>\n",
       "      <td>2335506</td>\n",
       "      <td>520013</td>\n",
       "      <td>15</td>\n",
       "      <td>NaN</td>\n",
       "      <td>NaN</td>\n",
       "      <td>M</td>\n",
       "      <td>3.0</td>\n",
       "      <td>6</td>\n",
       "      <td>34</td>\n",
       "      <td>4</td>\n",
       "      <td>3</td>\n",
       "      <td>1</td>\n",
       "      <td>202001</td>\n",
       "    </tr>\n",
       "    <tr>\n",
       "      <th>...</th>\n",
       "      <td>...</td>\n",
       "      <td>...</td>\n",
       "      <td>...</td>\n",
       "      <td>...</td>\n",
       "      <td>...</td>\n",
       "      <td>...</td>\n",
       "      <td>...</td>\n",
       "      <td>...</td>\n",
       "      <td>...</td>\n",
       "      <td>...</td>\n",
       "      <td>...</td>\n",
       "      <td>...</td>\n",
       "      <td>...</td>\n",
       "    </tr>\n",
       "    <tr>\n",
       "      <th>103493</th>\n",
       "      <td>2383691</td>\n",
       "      <td>522205</td>\n",
       "      <td>001</td>\n",
       "      <td>NaN</td>\n",
       "      <td>NaN</td>\n",
       "      <td>M</td>\n",
       "      <td>3.0</td>\n",
       "      <td>1</td>\n",
       "      <td>3</td>\n",
       "      <td>3</td>\n",
       "      <td>3</td>\n",
       "      <td>0</td>\n",
       "      <td>202211</td>\n",
       "    </tr>\n",
       "    <tr>\n",
       "      <th>103494</th>\n",
       "      <td>2383691</td>\n",
       "      <td>522205</td>\n",
       "      <td>001</td>\n",
       "      <td>NaN</td>\n",
       "      <td>NaN</td>\n",
       "      <td>M</td>\n",
       "      <td>3.0</td>\n",
       "      <td>4</td>\n",
       "      <td>10</td>\n",
       "      <td>3</td>\n",
       "      <td>3</td>\n",
       "      <td>0</td>\n",
       "      <td>202211</td>\n",
       "    </tr>\n",
       "    <tr>\n",
       "      <th>103495</th>\n",
       "      <td>2439883</td>\n",
       "      <td>522220</td>\n",
       "      <td>02</td>\n",
       "      <td>NaN</td>\n",
       "      <td>NaN</td>\n",
       "      <td>M</td>\n",
       "      <td>3.0</td>\n",
       "      <td>2</td>\n",
       "      <td>33</td>\n",
       "      <td>7</td>\n",
       "      <td>7</td>\n",
       "      <td>0</td>\n",
       "      <td>202211</td>\n",
       "    </tr>\n",
       "    <tr>\n",
       "      <th>103496</th>\n",
       "      <td>2439883</td>\n",
       "      <td>522220</td>\n",
       "      <td>02</td>\n",
       "      <td>NaN</td>\n",
       "      <td>NaN</td>\n",
       "      <td>M</td>\n",
       "      <td>3.0</td>\n",
       "      <td>4</td>\n",
       "      <td>43</td>\n",
       "      <td>2</td>\n",
       "      <td>2</td>\n",
       "      <td>0</td>\n",
       "      <td>202211</td>\n",
       "    </tr>\n",
       "    <tr>\n",
       "      <th>103497</th>\n",
       "      <td>2439883</td>\n",
       "      <td>522220</td>\n",
       "      <td>02</td>\n",
       "      <td>NaN</td>\n",
       "      <td>NaN</td>\n",
       "      <td>M</td>\n",
       "      <td>3.0</td>\n",
       "      <td>5</td>\n",
       "      <td>45</td>\n",
       "      <td>4</td>\n",
       "      <td>4</td>\n",
       "      <td>0</td>\n",
       "      <td>202211</td>\n",
       "    </tr>\n",
       "  </tbody>\n",
       "</table>\n",
       "<p>103498 rows × 13 columns</p>\n",
       "</div>"
      ],
      "text/plain": [
       "           CNES  CODUFMUN REGSAUDE MICR_REG DISTRADM TPGESTAO  CLIENTEL  \\\n",
       "0       9331603    520010      NaN      NaN      NaN        M       3.0   \n",
       "1       2335506    520013       15      NaN      NaN        M       3.0   \n",
       "2       2335506    520013       15      NaN      NaN        M       3.0   \n",
       "3       2335506    520013       15      NaN      NaN        M       3.0   \n",
       "4       2335506    520013       15      NaN      NaN        M       3.0   \n",
       "...         ...       ...      ...      ...      ...      ...       ...   \n",
       "103493  2383691    522205      001      NaN      NaN        M       3.0   \n",
       "103494  2383691    522205      001      NaN      NaN        M       3.0   \n",
       "103495  2439883    522220       02      NaN      NaN        M       3.0   \n",
       "103496  2439883    522220       02      NaN      NaN        M       3.0   \n",
       "103497  2439883    522220       02      NaN      NaN        M       3.0   \n",
       "\n",
       "        TP_LEITO  CODLEITO  QT_EXIST  QT_SUS  QT_NSUS  COMPETEN  \n",
       "0              2        33         9       9        0    202001  \n",
       "1              4        43         3       3        0    202001  \n",
       "2              1         3         2       1        1    202001  \n",
       "3              2        41         2       2        0    202001  \n",
       "4              6        34         4       3        1    202001  \n",
       "...          ...       ...       ...     ...      ...       ...  \n",
       "103493         1         3         3       3        0    202211  \n",
       "103494         4        10         3       3        0    202211  \n",
       "103495         2        33         7       7        0    202211  \n",
       "103496         4        43         2       2        0    202211  \n",
       "103497         5        45         4       4        0    202211  \n",
       "\n",
       "[103498 rows x 13 columns]"
      ]
     },
     "metadata": {},
     "output_type": "display_data"
    },
    {
     "name": "stdout",
     "output_type": "stream",
     "text": [
      "<class 'numpy.ndarray'>\n"
     ]
    }
   ],
   "source": [
    "df2 = df.drop(['DISTRSAN', 'ESFERA_A', 'RETENCAO', 'NATUREZA', 'NIV_HIER', 'TERCEIRO', 'PF_PJ', 'CPF_CNPJ', 'NIV_DEP', 'CNPJ_MAN', 'ATIVIDAD', 'TP_UNID', 'TURNO_AT', 'QT_CONTR', 'NAT_JUR'], axis=1)\n",
    "display(df2)\n",
    "\n",
    "\n",
    "listatemp = df[\"COMPETEN\"].unique()\n",
    "print(type(listatemp))"
   ]
  },
  {
   "cell_type": "code",
   "execution_count": 30,
   "id": "a63472c3",
   "metadata": {},
   "outputs": [
    {
     "name": "stdout",
     "output_type": "stream",
     "text": [
      "DatetimeIndex(['2020-01-01', '2020-02-01', '2020-03-01', '2020-04-01',\n",
      "               '2020-05-01', '2020-06-01', '2020-07-01', '2020-08-01',\n",
      "               '2020-09-01', '2020-10-01', '2020-11-01', '2020-12-01',\n",
      "               '2021-01-01', '2021-02-01', '2021-03-01', '2021-04-01',\n",
      "               '2021-05-01', '2021-06-01', '2021-07-01', '2021-08-01',\n",
      "               '2021-09-01', '2021-10-01', '2021-11-01', '2021-12-01',\n",
      "               '2022-01-01', '2022-02-01', '2022-03-01', '2022-04-01',\n",
      "               '2022-05-01', '2022-06-01', '2022-07-01', '2022-08-01',\n",
      "               '2022-09-01', '2022-10-01', '2022-11-01'],\n",
      "              dtype='datetime64[ns]', freq=None)\n"
     ]
    }
   ],
   "source": [
    "#criando uma lista para manipular as datas, como pode ser observado adiante.\n",
    "listatemp = pd.to_datetime(listatemp, format=\"%Y%m\")\n",
    "print(listatemp)"
   ]
  },
  {
   "cell_type": "markdown",
   "id": "9cc02cf2",
   "metadata": {},
   "source": [
    "#### Então agora posso começar a analisar os dados, direcionado a algumas questões:\n",
    "\n",
    "-Analise a evolução do número de leitos no tempo; verifique se em algum momento pôde ser observado um declínio na capacidade hospitalar instalada;\n",
    "    \n",
    "-Compare a distribuição geográfica dos leitos por município antes e depois da pandemia:"
   ]
  },
  {
   "cell_type": "code",
   "execution_count": 31,
   "id": "281056ba",
   "metadata": {},
   "outputs": [],
   "source": [
    "df7 = df2[[\"COMPETEN\", \"QT_EXIST\"]] #novo dataframe somente com as informações que preciso no momento.\n",
    "\n",
    "df8 = df7.groupby(\"COMPETEN\")[\"QT_EXIST\"].sum() #novo DF - groupby year month, soma dos leitos."
   ]
  },
  {
   "cell_type": "code",
   "execution_count": 41,
   "id": "47153a7b",
   "metadata": {},
   "outputs": [
    {
     "data": {
      "image/png": "[encoded data removed]",
      "text/plain": [
       "<Figure size 1100x650 with 1 Axes>"
      ]
     },
     "metadata": {},
     "output_type": "display_data"
    }
   ],
   "source": [
    "leitosmes_median = df8.median() #mediana\n",
    "df17 = [[leitosmes_median] * len(df8)] #novo DF para plotar a mediana no gráfico.\n",
    "\n",
    "#Plotting\n",
    "fig, ax = plt.subplots(figsize=(11,6.5))\n",
    "\n",
    "ax.bar(listatemp[0:12], df8.values[0:12], color='#B7FF9B', label=\"Leitos por Mês - 2020\", width = 20)\n",
    "ax.bar(listatemp[12:24], df8.values[12:24], color='#FFAA00', label=\"Leitos por Mês - 2021\", width = 20)\n",
    "ax.bar(listatemp[24:35], df8.values[24:35], color='#FFD580', label=\"Leitos por Mês - 2022\", width = 20)\n",
    "ax.plot(listatemp, df17[0], linewidth=1.8, label=\"Mediana\", color='#D30202') #median over the plot\n",
    "\n",
    "ax.annotate(int(df8.values[11]), (listatemp[11], df8.values[11]+350), ha = \"center\")\n",
    "ax.annotate(int(df8.values[23]), (listatemp[23], df8.values[23]+150), ha = \"center\")\n",
    "ax.annotate(int(df8.values[34]), (listatemp[34], df8.values[34]+300), ha = \"center\")\n",
    "ax.annotate(int(leitosmes_median), (listatemp[0], leitosmes_median -400), ha=\"right\", rotation=50) #median value in plot\n",
    "\n",
    "plt.xticks(listatemp)\n",
    "# Rotating legends\n",
    "ax.tick_params('x',labelrotation=70)\n",
    "\n",
    "ax.xaxis.set_major_formatter(mpl.dates.DateFormatter('%Y-%m'))\n",
    "\n",
    "# Adding legend\n",
    "ax.legend();"
   ]
  },
  {
   "cell_type": "markdown",
   "id": "31071322",
   "metadata": {},
   "source": [
    "#### Como podemos observar no gráfico acima:\n",
    "- A partir do final de fevereiro de 2020, período que podemos chamar do início da pandemia de COVID-19 no Brasil, o número de leitos cresceu mês após mês (salvo algumas exceções, como em novembro de 2021), até o mês de dezembro de 2021.\n",
    "\n",
    "- Podemos dizer que o pico da pandemia no Brasil aconteceu em Março de 2021, com aproximadamente 79 mil mortes causadas pela doença naquele mês. Este número veio diminuindo com o passar dos meses, após o pico.\n",
    "\n",
    "- Podemos pensar que houve um atraso ou que não houve um planejamento precoce visando se preparar para meses em que o surto da pandemia seria maior, como em Março de 2021, visto que mesmo sendo o mês de pico no número de mortes, não é o mês em que haviam mais leitos disponíveis (pelo menos em Goiás). Também, esta menor disponibilidade de leitos naquele momento pode ter contribuído para os péssimos índices do mês.\n",
    "\n",
    "- De qualquer forma, quando comparado com o período pré pandêmico, o estado mantém até hoje boa parte dos leitos que foram criados."
   ]
  },
  {
   "cell_type": "code",
   "execution_count": 33,
   "id": "b93cd6e3",
   "metadata": {},
   "outputs": [
    {
     "name": "stderr",
     "output_type": "stream",
     "text": [
      "C:\\Users\\leonardo\\AppData\\Local\\Temp\\ipykernel_13920\\1782430685.py:5: SettingWithCopyWarning: \n",
      "A value is trying to be set on a copy of a slice from a DataFrame.\n",
      "Try using .loc[row_indexer,col_indexer] = value instead\n",
      "\n",
      "See the caveats in the documentation: https://pandas.pydata.org/pandas-docs/stable/user_guide/indexing.html#returning-a-view-versus-a-copy\n",
      "  df6[\"CODUFMUN\"] = df6[\"CODUFMUN\"].astype(str)\n"
     ]
    },
    {
     "data": {
      "text/html": [
       "<div>\n",
       "<style scoped>\n",
       "    .dataframe tbody tr th:only-of-type {\n",
       "        vertical-align: middle;\n",
       "    }\n",
       "\n",
       "    .dataframe tbody tr th {\n",
       "        vertical-align: top;\n",
       "    }\n",
       "\n",
       "    .dataframe thead th {\n",
       "        text-align: right;\n",
       "    }\n",
       "</style>\n",
       "<table border=\"1\" class=\"dataframe\">\n",
       "  <thead>\n",
       "    <tr style=\"text-align: right;\">\n",
       "      <th></th>\n",
       "      <th>QT_EXIST</th>\n",
       "    </tr>\n",
       "    <tr>\n",
       "      <th>CODUFMUN</th>\n",
       "      <th></th>\n",
       "    </tr>\n",
       "  </thead>\n",
       "  <tbody>\n",
       "    <tr>\n",
       "      <th>520870</th>\n",
       "      <td>7593</td>\n",
       "    </tr>\n",
       "    <tr>\n",
       "      <th>520140</th>\n",
       "      <td>1197</td>\n",
       "    </tr>\n",
       "    <tr>\n",
       "      <th>520110</th>\n",
       "      <td>1151</td>\n",
       "    </tr>\n",
       "    <tr>\n",
       "      <th>522140</th>\n",
       "      <td>510</td>\n",
       "    </tr>\n",
       "    <tr>\n",
       "      <th>521880</th>\n",
       "      <td>485</td>\n",
       "    </tr>\n",
       "    <tr>\n",
       "      <th>520540</th>\n",
       "      <td>352</td>\n",
       "    </tr>\n",
       "    <tr>\n",
       "      <th>520510</th>\n",
       "      <td>336</td>\n",
       "    </tr>\n",
       "    <tr>\n",
       "      <th>521150</th>\n",
       "      <td>271</td>\n",
       "    </tr>\n",
       "    <tr>\n",
       "      <th>520860</th>\n",
       "      <td>271</td>\n",
       "    </tr>\n",
       "    <tr>\n",
       "      <th>521310</th>\n",
       "      <td>259</td>\n",
       "    </tr>\n",
       "  </tbody>\n",
       "</table>\n",
       "</div>"
      ],
      "text/plain": [
       "          QT_EXIST\n",
       "CODUFMUN          \n",
       "520870        7593\n",
       "520140        1197\n",
       "520110        1151\n",
       "522140         510\n",
       "521880         485\n",
       "520540         352\n",
       "520510         336\n",
       "521150         271\n",
       "520860         271\n",
       "521310         259"
      ]
     },
     "metadata": {},
     "output_type": "display_data"
    }
   ],
   "source": [
    "#Preparando os dados para analisar a distribuição dos leitos pelos municípios do estado.\n",
    "df4 = df2[[\"COMPETEN\", \"CODUFMUN\", \"QT_EXIST\"]]\n",
    "\n",
    "df5 = df4[df4[\"COMPETEN\"] == 202001] #janeiro 2020\n",
    "df6 = df5[[\"CODUFMUN\", \"QT_EXIST\"]]\n",
    "df6[\"CODUFMUN\"] = df6[\"CODUFMUN\"].astype(str)\n",
    "\n",
    "df6 = df6.groupby(\"CODUFMUN\").sum().sort_values(by=[\"QT_EXIST\"], ascending=False).head(10)\n",
    "\n",
    "pd.set_option('display.max_rows', None)\n",
    "display(df6)"
   ]
  },
  {
   "cell_type": "code",
   "execution_count": 34,
   "id": "d9b6bd29",
   "metadata": {},
   "outputs": [
    {
     "name": "stdout",
     "output_type": "stream",
     "text": [
      "[7593 1197 1151  510  485  352  336  271  271  259]\n"
     ]
    }
   ],
   "source": [
    "#np.vectorize() - para poder plotar os gráficos\n",
    "vetor2 = df6.values.squeeze()\n",
    "print(vetor2)"
   ]
  },
  {
   "cell_type": "code",
   "execution_count": 45,
   "id": "9774278f",
   "metadata": {},
   "outputs": [
    {
     "data": {
      "image/png": "[encoded data removed]",
      "text/plain": [
       "<Figure size 800x500 with 1 Axes>"
      ]
     },
     "metadata": {},
     "output_type": "display_data"
    }
   ],
   "source": [
    "fig, ax = plt.subplots(figsize=(8,5))\n",
    "\n",
    "ax.barh(df6.index, vetor2, color='#CDFF99', edgecolor = \"g\", label=\"Os 10 municípios com mais leitos \\n         no estado de Goiás\")\n",
    "ax.invert_yaxis()\n",
    "for i in range(len(df6)):\n",
    "    if df6.values[i] > 1100:\n",
    "        ax.annotate(vetor2[i], (df6.values[i]-260, df6.index[i]), ha=\"center\", verticalalignment='center')\n",
    "    else:\n",
    "        ax.annotate(vetor2[i], (df6.values[i]+230, df6.index[i]), ha=\"center\", verticalalignment='center')\n",
    "ax.legend(loc=7);"
   ]
  },
  {
   "cell_type": "code",
   "execution_count": 51,
   "id": "625f1e62",
   "metadata": {},
   "outputs": [
    {
     "name": "stderr",
     "output_type": "stream",
     "text": [
      "C:\\Users\\leonardo\\AppData\\Local\\Temp\\ipykernel_13920\\3730917828.py:3: SettingWithCopyWarning: \n",
      "A value is trying to be set on a copy of a slice from a DataFrame.\n",
      "Try using .loc[row_indexer,col_indexer] = value instead\n",
      "\n",
      "See the caveats in the documentation: https://pandas.pydata.org/pandas-docs/stable/user_guide/indexing.html#returning-a-view-versus-a-copy\n",
      "  df9[\"CODUFMUN\"] = df9[\"CODUFMUN\"].astype(str)\n"
     ]
    },
    {
     "data": {
      "text/html": [
       "<div>\n",
       "<style scoped>\n",
       "    .dataframe tbody tr th:only-of-type {\n",
       "        vertical-align: middle;\n",
       "    }\n",
       "\n",
       "    .dataframe tbody tr th {\n",
       "        vertical-align: top;\n",
       "    }\n",
       "\n",
       "    .dataframe thead th {\n",
       "        text-align: right;\n",
       "    }\n",
       "</style>\n",
       "<table border=\"1\" class=\"dataframe\">\n",
       "  <thead>\n",
       "    <tr style=\"text-align: right;\">\n",
       "      <th></th>\n",
       "      <th>QT_EXIST</th>\n",
       "    </tr>\n",
       "    <tr>\n",
       "      <th>CODUFMUN</th>\n",
       "      <th></th>\n",
       "    </tr>\n",
       "  </thead>\n",
       "  <tbody>\n",
       "    <tr>\n",
       "      <th>520870</th>\n",
       "      <td>8275</td>\n",
       "    </tr>\n",
       "    <tr>\n",
       "      <th>520140</th>\n",
       "      <td>1402</td>\n",
       "    </tr>\n",
       "    <tr>\n",
       "      <th>520110</th>\n",
       "      <td>1263</td>\n",
       "    </tr>\n",
       "    <tr>\n",
       "      <th>521880</th>\n",
       "      <td>637</td>\n",
       "    </tr>\n",
       "    <tr>\n",
       "      <th>522140</th>\n",
       "      <td>562</td>\n",
       "    </tr>\n",
       "    <tr>\n",
       "      <th>522160</th>\n",
       "      <td>499</td>\n",
       "    </tr>\n",
       "    <tr>\n",
       "      <th>520540</th>\n",
       "      <td>345</td>\n",
       "    </tr>\n",
       "    <tr>\n",
       "      <th>521150</th>\n",
       "      <td>326</td>\n",
       "    </tr>\n",
       "    <tr>\n",
       "      <th>520510</th>\n",
       "      <td>319</td>\n",
       "    </tr>\n",
       "    <tr>\n",
       "      <th>521310</th>\n",
       "      <td>271</td>\n",
       "    </tr>\n",
       "  </tbody>\n",
       "</table>\n",
       "</div>"
      ],
      "text/plain": [
       "          QT_EXIST\n",
       "CODUFMUN          \n",
       "520870        8275\n",
       "520140        1402\n",
       "520110        1263\n",
       "521880         637\n",
       "522140         562\n",
       "522160         499\n",
       "520540         345\n",
       "521150         326\n",
       "520510         319\n",
       "521310         271"
      ]
     },
     "metadata": {},
     "output_type": "display_data"
    }
   ],
   "source": [
    "df7 = df4[df4[\"COMPETEN\"] == 202211] #novembro 2022\n",
    "df9 = df7[[\"CODUFMUN\", \"QT_EXIST\"]]\n",
    "df9[\"CODUFMUN\"] = df9[\"CODUFMUN\"].astype(str)\n",
    "df9 = df9.groupby(\"CODUFMUN\").sum().sort_values(by=[\"QT_EXIST\"], ascending=False).head(10)\n",
    "\n",
    "display(df9)"
   ]
  },
  {
   "cell_type": "code",
   "execution_count": 37,
   "id": "9d10a167",
   "metadata": {
    "scrolled": true
   },
   "outputs": [
    {
     "name": "stdout",
     "output_type": "stream",
     "text": [
      "[8275 1402 1263  637  562  499  345  326  319  271]\n"
     ]
    }
   ],
   "source": [
    "#np.vectorize()\n",
    "vetor1 = df9.values.squeeze()\n",
    "print(vetor1)"
   ]
  },
  {
   "cell_type": "code",
   "execution_count": 47,
   "id": "1ddcae79",
   "metadata": {
    "scrolled": false
   },
   "outputs": [
    {
     "data": {
      "image/png": "[encoded data removed]",
      "text/plain": [
       "<Figure size 800x500 with 1 Axes>"
      ]
     },
     "metadata": {},
     "output_type": "display_data"
    }
   ],
   "source": [
    "fig, ax = plt.subplots(figsize=(8,5))\n",
    "\n",
    "ax.barh(df9.index, vetor1, color='#CDFF99', edgecolor = \"g\", label=\"Os 10 municípios com mais leitos \\n         no estado de Goiás\")\n",
    "ax.invert_yaxis()\n",
    "for i in range(len(df9)):\n",
    "    if df9.values[i] > 1200:\n",
    "        ax.annotate(vetor1[i], (df9.values[i]-280, df9.index[i]), ha=\"center\", verticalalignment='center')\n",
    "    else:\n",
    "        ax.annotate(vetor1[i], (df9.values[i]+230, df9.index[i]), ha=\"center\", verticalalignment='center')\n",
    "ax.legend(loc=7);"
   ]
  },
  {
   "cell_type": "markdown",
   "id": "94726607",
   "metadata": {},
   "source": [
    "#### Como podemos observar nos gráficos acima:\n",
    "- Como podemos observar, os 5 municípios com mais leitos no estado se mantiveram praticamente nas mesmas posições, quando comparamos os leitos disponíveis antes da pandemia e em Novembro de 2022 (após uma certa normalização do cenário pandêmico).\n",
    "\n",
    "- São eles: \n",
    "\n",
    "#### 520870 - GOIANIA (como esperado, a capital se manteve em primeiro lugar em ambos os períodos analisados);\n",
    "\n",
    "#### 520140 - APARECIDA DE GOIANIA;\n",
    "\n",
    "#### 520110 - ANAPOLIS;\n",
    "\n",
    "#### 521880 - RIO VERDE (possuía menos leitos disponíveis do que Trindade, antes da pandemia, cenário que se alterou hoje em dia);\n",
    "\n",
    "#### 522140 - e TRINDADE.\n",
    "\n",
    "- Também vale destacar o município de GOIANESIA (código 520860), que estava entre os 10 municípios do estado com mais leitos disponíveis antes da pandemia, e que atualmente não consta mais nesta lista."
   ]
  },
  {
   "cell_type": "markdown",
   "id": "3851529c",
   "metadata": {},
   "source": [
    "#### Fontes: \n",
    "JHU CSSE COVID-19 Data - https://github.com/CSSEGISandData/COVID-19 ;\n",
    "\n",
    "Histórico da pandemia de COVID-19 - OPAS/OMS - https://www.paho.org/pt/covid19/historico-da-pandemia-covid-19#:~:text=Em%2011%20de%20mar%C3%A7o%20de,pela%20OMS%20como%20uma%20pandemia ;\n",
    "\n",
    "Dois anos do primeiro caso de coronavírus no Brasil - https://www12.senado.leg.br/radio/1/noticia/2022/02/23/dois-anos-do-primeiro-caso-de-coronavirus-no-brasil ;\n",
    "\n",
    "Estabelecimentos Cadastrados nos Municípios do Estado de GOIAS - http://cnes2.datasus.gov.br/Lista_Tot_Es_Municipio.asp?Estado=52&NomeEstado=GOIAS ;\n",
    "\n",
    "Pico da pandemia em 2021 teve mais que o dobro de mortes que a alta em 2020 - https://www.poder360.com.br/coronavirus/pico-da-pandemia-em-2021-teve-mais-que-o-dobro-de-mortes-que-a-alta-em-2020/ ."
   ]
  }
 ],
 "metadata": {
  "kernelspec": {
   "display_name": "Python 3 (ipykernel)",
   "language": "python",
   "name": "python3"
  },
  "language_info": {
   "codemirror_mode": {
    "name": "ipython",
    "version": 3
   },
   "file_extension": ".py",
   "mimetype": "text/x-python",
   "name": "python",
   "nbconvert_exporter": "python",
   "pygments_lexer": "ipython3",
   "version": "3.9.13"
  }
 },
 "nbformat": 4,
 "nbformat_minor": 5
}
